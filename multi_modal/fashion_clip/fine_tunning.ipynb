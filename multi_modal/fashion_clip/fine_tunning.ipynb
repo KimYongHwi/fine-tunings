{
 "cells": [
  {
   "cell_type": "code",
   "execution_count": 1,
   "id": "initial_id",
   "metadata": {
    "collapsed": true,
    "ExecuteTime": {
     "end_time": "2024-04-18T17:00:03.740578Z",
     "start_time": "2024-04-18T16:59:55.909952Z"
    }
   },
   "outputs": [],
   "source": [
    "import torch\n",
    "\n",
    "from data.data_load import get_neckline_df, get_device, download_images\n",
    "from multi_modal.data_set import get_dataset, print_dataset_names\n",
    "from torch.utils.data import DataLoader\n",
    "from multi_modal.fashion_clip.pretrained_model import get_model, train_step\n",
    "from tqdm.auto import tqdm"
   ]
  },
  {
   "cell_type": "code",
   "outputs": [
    {
     "data": {
      "text/plain": "device(type='mps')"
     },
     "execution_count": 2,
     "metadata": {},
     "output_type": "execute_result"
    }
   ],
   "source": [
    "device = get_device()\n",
    "device"
   ],
   "metadata": {
    "collapsed": false,
    "ExecuteTime": {
     "end_time": "2024-04-18T17:00:03.758564Z",
     "start_time": "2024-04-18T17:00:03.742040Z"
    }
   },
   "id": "4cb2806dd9d27f30",
   "execution_count": 2
  },
  {
   "cell_type": "code",
   "outputs": [
    {
     "name": "stdout",
     "output_type": "stream",
     "text": [
      "['라운드넥' '반집업 카라' '보트넥' '브이넥' '스퀘어' '슬릿' '오프숄더' '오픈카라' '일반카라' '터틀넥/폴라'\n",
      " '헨리/차이나카라' '후드']\n"
     ]
    }
   ],
   "source": [
    "data_size = 20\n",
    "\n",
    "train_df, test_df = get_neckline_df('neck_line_concated.csv', 'neck_line_test_item_no_list.txt', data_size=data_size)"
   ],
   "metadata": {
    "collapsed": false,
    "ExecuteTime": {
     "end_time": "2024-04-18T17:00:04.852437Z",
     "start_time": "2024-04-18T17:00:03.759436Z"
    }
   },
   "id": "bb14800750a42190",
   "execution_count": 3
  },
  {
   "cell_type": "code",
   "outputs": [
    {
     "data": {
      "text/plain": "     item_no                                          item_name  \\\n1    2574285                                라운드 돌먼 티셔츠 SA5STG1    \n5    2574019                              뷔스티에 레이어드 니트 SA4LKH1    \n6    2573900     U 핑크 디스트레스드 모헤어 점퍼 핑크 DISTRESSED MOHAIR JUMPER   \n7    2573898       U 모헤어 스트라이프 점퍼 버건디 옐로우 MOHAIR STRIPED JUMPER   \n9    2573895   U 크루넥 스웨트셔츠 베이비 블루 CREWNECK SWEATSHIRT BABY BLUE   \n..       ...                                                ...   \n374  2561848                 WM 남성 SHADE 익스퍼트 후드티 8GTBX24105OWH   \n375  2561845                 WM 남성 SHADE 익스퍼트 후드티 8GTBX24105BLK   \n497  2560110                 NYLON PUFF SLEEVE HOODIE CHARCOAL    \n498  2560109                     NYLON PUFF SLEEVE HOODIE PINK    \n499  2560108                    NYLON PUFF SLEEVE HOODIE BLACK    \n\n                                    detail_image_url_1  neck_line_label  \\\n1    https://img.29cm.co.kr/item/202404/11eef30f3af...                0   \n5    https://img.29cm.co.kr/item/202404/11eef307ede...                0   \n6    https://img.29cm.co.kr/next-product/2024/04/05...                0   \n7    https://img.29cm.co.kr/next-product/2024/04/05...                0   \n9    https://img.29cm.co.kr/next-product/2024/04/05...                0   \n..                                                 ...              ...   \n374  https://img.29cm.co.kr/item/202403/11eeed94719...               11   \n375  https://img.29cm.co.kr/item/202403/11eeed94552...               11   \n497  https://img.29cm.co.kr/next-product/2024/03/28...               11   \n498  https://img.29cm.co.kr/next-product/2024/03/28...               11   \n499  https://img.29cm.co.kr/next-product/2024/03/28...               11   \n\n                                  neck_line_label_desc  \n1    A neckline that forms a complete circle or sem...  \n5    A neckline that forms a complete circle or sem...  \n6    A neckline that forms a complete circle or sem...  \n7    A neckline that forms a complete circle or sem...  \n9    A neckline that forms a complete circle or sem...  \n..                                                 ...  \n374  A fabric covering attached to the neckline of ...  \n375  A fabric covering attached to the neckline of ...  \n497  A fabric covering attached to the neckline of ...  \n498  A fabric covering attached to the neckline of ...  \n499  A fabric covering attached to the neckline of ...  \n\n[240 rows x 5 columns]",
      "text/html": "<div>\n<style scoped>\n    .dataframe tbody tr th:only-of-type {\n        vertical-align: middle;\n    }\n\n    .dataframe tbody tr th {\n        vertical-align: top;\n    }\n\n    .dataframe thead th {\n        text-align: right;\n    }\n</style>\n<table border=\"1\" class=\"dataframe\">\n  <thead>\n    <tr style=\"text-align: right;\">\n      <th></th>\n      <th>item_no</th>\n      <th>item_name</th>\n      <th>detail_image_url_1</th>\n      <th>neck_line_label</th>\n      <th>neck_line_label_desc</th>\n    </tr>\n  </thead>\n  <tbody>\n    <tr>\n      <th>1</th>\n      <td>2574285</td>\n      <td>라운드 돌먼 티셔츠 SA5STG1</td>\n      <td>https://img.29cm.co.kr/item/202404/11eef30f3af...</td>\n      <td>0</td>\n      <td>A neckline that forms a complete circle or sem...</td>\n    </tr>\n    <tr>\n      <th>5</th>\n      <td>2574019</td>\n      <td>뷔스티에 레이어드 니트 SA4LKH1</td>\n      <td>https://img.29cm.co.kr/item/202404/11eef307ede...</td>\n      <td>0</td>\n      <td>A neckline that forms a complete circle or sem...</td>\n    </tr>\n    <tr>\n      <th>6</th>\n      <td>2573900</td>\n      <td>U 핑크 디스트레스드 모헤어 점퍼 핑크 DISTRESSED MOHAIR JUMPER</td>\n      <td>https://img.29cm.co.kr/next-product/2024/04/05...</td>\n      <td>0</td>\n      <td>A neckline that forms a complete circle or sem...</td>\n    </tr>\n    <tr>\n      <th>7</th>\n      <td>2573898</td>\n      <td>U 모헤어 스트라이프 점퍼 버건디 옐로우 MOHAIR STRIPED JUMPER</td>\n      <td>https://img.29cm.co.kr/next-product/2024/04/05...</td>\n      <td>0</td>\n      <td>A neckline that forms a complete circle or sem...</td>\n    </tr>\n    <tr>\n      <th>9</th>\n      <td>2573895</td>\n      <td>U 크루넥 스웨트셔츠 베이비 블루 CREWNECK SWEATSHIRT BABY BLUE</td>\n      <td>https://img.29cm.co.kr/next-product/2024/04/05...</td>\n      <td>0</td>\n      <td>A neckline that forms a complete circle or sem...</td>\n    </tr>\n    <tr>\n      <th>...</th>\n      <td>...</td>\n      <td>...</td>\n      <td>...</td>\n      <td>...</td>\n      <td>...</td>\n    </tr>\n    <tr>\n      <th>374</th>\n      <td>2561848</td>\n      <td>WM 남성 SHADE 익스퍼트 후드티 8GTBX24105OWH</td>\n      <td>https://img.29cm.co.kr/item/202403/11eeed94719...</td>\n      <td>11</td>\n      <td>A fabric covering attached to the neckline of ...</td>\n    </tr>\n    <tr>\n      <th>375</th>\n      <td>2561845</td>\n      <td>WM 남성 SHADE 익스퍼트 후드티 8GTBX24105BLK</td>\n      <td>https://img.29cm.co.kr/item/202403/11eeed94552...</td>\n      <td>11</td>\n      <td>A fabric covering attached to the neckline of ...</td>\n    </tr>\n    <tr>\n      <th>497</th>\n      <td>2560110</td>\n      <td>NYLON PUFF SLEEVE HOODIE CHARCOAL</td>\n      <td>https://img.29cm.co.kr/next-product/2024/03/28...</td>\n      <td>11</td>\n      <td>A fabric covering attached to the neckline of ...</td>\n    </tr>\n    <tr>\n      <th>498</th>\n      <td>2560109</td>\n      <td>NYLON PUFF SLEEVE HOODIE PINK</td>\n      <td>https://img.29cm.co.kr/next-product/2024/03/28...</td>\n      <td>11</td>\n      <td>A fabric covering attached to the neckline of ...</td>\n    </tr>\n    <tr>\n      <th>499</th>\n      <td>2560108</td>\n      <td>NYLON PUFF SLEEVE HOODIE BLACK</td>\n      <td>https://img.29cm.co.kr/next-product/2024/03/28...</td>\n      <td>11</td>\n      <td>A fabric covering attached to the neckline of ...</td>\n    </tr>\n  </tbody>\n</table>\n<p>240 rows × 5 columns</p>\n</div>"
     },
     "execution_count": 4,
     "metadata": {},
     "output_type": "execute_result"
    }
   ],
   "source": [
    "train_df"
   ],
   "metadata": {
    "collapsed": false,
    "ExecuteTime": {
     "end_time": "2024-04-18T17:00:04.859422Z",
     "start_time": "2024-04-18T17:00:04.853302Z"
    }
   },
   "id": "dc8af7f6a8f66fa4",
   "execution_count": 4
  },
  {
   "cell_type": "code",
   "outputs": [
    {
     "data": {
      "text/plain": "       item_no                          item_name  \\\n37912  1756685                  Sonic Sweat Ivory   \n37913  1604241   MINERAL V Neck Sleeveless Lemon    \n37914  1729581        WOOL OVERSIZED SWEATER BLUE   \n37915  1361806   UNISEX 스몰 레오파드 자수 스마일 맨투맨 5color   \n37916   955946           여성 아머럭스 레스코닐 BI8 네이비X화이트   \n...        ...                                ...   \n38649  1989574                 W 소프트 슬릿 가디건 라이트그린   \n38650  1438567          ROUND NECK SHIRTS T BLACK   \n38651  1438609          ROUND NECK SHIRTS T CREAM   \n38652  1982571              트임넥 변형 싱글 스판 티셔츠 베이지    \n38653  1982570               트임넥 변형 싱글 스판 티셔츠 블랙    \n\n                                      detail_image_url_1  neck_line_label  \\\n37912  https://img.29cm.co.kr/next-product/2022/10/05...                0   \n37913  https://img.29cm.co.kr/next-product/2022/06/21...                3   \n37914  https://img.29cm.co.kr/next-product/2022/09/20...                2   \n37915  https://img.29cm.co.kr/next-product/2021/12/29...                0   \n37916  https://img.29cm.co.kr/next-product/2023/08/21...                0   \n...                                                  ...              ...   \n38649  https://img.29cm.co.kr/next-product/2023/04/03...                5   \n38650  https://img.29cm.co.kr/next-product/2022/03/04...                5   \n38651  https://img.29cm.co.kr/next-product/2022/03/04...                5   \n38652  https://img.29cm.co.kr/next-product/2023/03/21...                5   \n38653  https://img.29cm.co.kr/next-product/2023/03/21...                5   \n\n                                    neck_line_label_desc  \n37912  A neckline that forms a complete circle or sem...  \n37913  A neckline that dips down into a V-shape, typi...  \n37914  A wide, horizontal neckline that sits near the...  \n37915  A neckline that forms a complete circle or sem...  \n37916  A neckline that forms a complete circle or sem...  \n...                                                  ...  \n38649  A narrow opening or cut in the neckline, sleev...  \n38650  A narrow opening or cut in the neckline, sleev...  \n38651  A narrow opening or cut in the neckline, sleev...  \n38652  A narrow opening or cut in the neckline, sleev...  \n38653  A narrow opening or cut in the neckline, sleev...  \n\n[448 rows x 5 columns]",
      "text/html": "<div>\n<style scoped>\n    .dataframe tbody tr th:only-of-type {\n        vertical-align: middle;\n    }\n\n    .dataframe tbody tr th {\n        vertical-align: top;\n    }\n\n    .dataframe thead th {\n        text-align: right;\n    }\n</style>\n<table border=\"1\" class=\"dataframe\">\n  <thead>\n    <tr style=\"text-align: right;\">\n      <th></th>\n      <th>item_no</th>\n      <th>item_name</th>\n      <th>detail_image_url_1</th>\n      <th>neck_line_label</th>\n      <th>neck_line_label_desc</th>\n    </tr>\n  </thead>\n  <tbody>\n    <tr>\n      <th>37912</th>\n      <td>1756685</td>\n      <td>Sonic Sweat Ivory</td>\n      <td>https://img.29cm.co.kr/next-product/2022/10/05...</td>\n      <td>0</td>\n      <td>A neckline that forms a complete circle or sem...</td>\n    </tr>\n    <tr>\n      <th>37913</th>\n      <td>1604241</td>\n      <td>MINERAL V Neck Sleeveless Lemon</td>\n      <td>https://img.29cm.co.kr/next-product/2022/06/21...</td>\n      <td>3</td>\n      <td>A neckline that dips down into a V-shape, typi...</td>\n    </tr>\n    <tr>\n      <th>37914</th>\n      <td>1729581</td>\n      <td>WOOL OVERSIZED SWEATER BLUE</td>\n      <td>https://img.29cm.co.kr/next-product/2022/09/20...</td>\n      <td>2</td>\n      <td>A wide, horizontal neckline that sits near the...</td>\n    </tr>\n    <tr>\n      <th>37915</th>\n      <td>1361806</td>\n      <td>UNISEX 스몰 레오파드 자수 스마일 맨투맨 5color</td>\n      <td>https://img.29cm.co.kr/next-product/2021/12/29...</td>\n      <td>0</td>\n      <td>A neckline that forms a complete circle or sem...</td>\n    </tr>\n    <tr>\n      <th>37916</th>\n      <td>955946</td>\n      <td>여성 아머럭스 레스코닐 BI8 네이비X화이트</td>\n      <td>https://img.29cm.co.kr/next-product/2023/08/21...</td>\n      <td>0</td>\n      <td>A neckline that forms a complete circle or sem...</td>\n    </tr>\n    <tr>\n      <th>...</th>\n      <td>...</td>\n      <td>...</td>\n      <td>...</td>\n      <td>...</td>\n      <td>...</td>\n    </tr>\n    <tr>\n      <th>38649</th>\n      <td>1989574</td>\n      <td>W 소프트 슬릿 가디건 라이트그린</td>\n      <td>https://img.29cm.co.kr/next-product/2023/04/03...</td>\n      <td>5</td>\n      <td>A narrow opening or cut in the neckline, sleev...</td>\n    </tr>\n    <tr>\n      <th>38650</th>\n      <td>1438567</td>\n      <td>ROUND NECK SHIRTS T BLACK</td>\n      <td>https://img.29cm.co.kr/next-product/2022/03/04...</td>\n      <td>5</td>\n      <td>A narrow opening or cut in the neckline, sleev...</td>\n    </tr>\n    <tr>\n      <th>38651</th>\n      <td>1438609</td>\n      <td>ROUND NECK SHIRTS T CREAM</td>\n      <td>https://img.29cm.co.kr/next-product/2022/03/04...</td>\n      <td>5</td>\n      <td>A narrow opening or cut in the neckline, sleev...</td>\n    </tr>\n    <tr>\n      <th>38652</th>\n      <td>1982571</td>\n      <td>트임넥 변형 싱글 스판 티셔츠 베이지</td>\n      <td>https://img.29cm.co.kr/next-product/2023/03/21...</td>\n      <td>5</td>\n      <td>A narrow opening or cut in the neckline, sleev...</td>\n    </tr>\n    <tr>\n      <th>38653</th>\n      <td>1982570</td>\n      <td>트임넥 변형 싱글 스판 티셔츠 블랙</td>\n      <td>https://img.29cm.co.kr/next-product/2023/03/21...</td>\n      <td>5</td>\n      <td>A narrow opening or cut in the neckline, sleev...</td>\n    </tr>\n  </tbody>\n</table>\n<p>448 rows × 5 columns</p>\n</div>"
     },
     "execution_count": 5,
     "metadata": {},
     "output_type": "execute_result"
    }
   ],
   "source": [
    "test_df"
   ],
   "metadata": {
    "collapsed": false,
    "ExecuteTime": {
     "end_time": "2024-04-18T17:00:04.867814Z",
     "start_time": "2024-04-18T17:00:04.860898Z"
    }
   },
   "id": "d9d865da80041c17",
   "execution_count": 5
  },
  {
   "cell_type": "code",
   "outputs": [],
   "source": [
    "train_urls = [url for url in train_df['detail_image_url_1'].tolist()]\n",
    "train_labels = train_df['neck_line_label'].tolist()\n",
    "train_item_no_list = train_df['item_no'].tolist()\n",
    "train_sentences = train_df['neck_line_label_desc'].tolist()\n",
    "\n",
    "test_urls = [url for url in test_df['detail_image_url_1'].tolist()]\n",
    "test_labels = test_df['neck_line_label'].tolist()\n",
    "test_item_no_list = test_df['item_no'].tolist()\n",
    "test_sentences = test_df['neck_line_label_desc'].tolist()"
   ],
   "metadata": {
    "collapsed": false,
    "ExecuteTime": {
     "end_time": "2024-04-18T17:00:04.871285Z",
     "start_time": "2024-04-18T17:00:04.868624Z"
    }
   },
   "id": "ff985184fa41f906",
   "execution_count": 6
  },
  {
   "cell_type": "code",
   "outputs": [
    {
     "data": {
      "text/plain": "  0%|          | 0/240 [00:00<?, ?it/s]",
      "application/vnd.jupyter.widget-view+json": {
       "version_major": 2,
       "version_minor": 0,
       "model_id": "f4f37adc964946ebaa6d8aeda33f1cf4"
      }
     },
     "metadata": {},
     "output_type": "display_data"
    },
    {
     "data": {
      "text/plain": "  0%|          | 0/448 [00:00<?, ?it/s]",
      "application/vnd.jupyter.widget-view+json": {
       "version_major": 2,
       "version_minor": 0,
       "model_id": "4ab66727805749ecafa7e909e4d52303"
      }
     },
     "metadata": {},
     "output_type": "display_data"
    }
   ],
   "source": [
    "download_images(train_urls)\n",
    "download_images(test_urls)"
   ],
   "metadata": {
    "collapsed": false,
    "ExecuteTime": {
     "end_time": "2024-04-18T17:00:04.931846Z",
     "start_time": "2024-04-18T17:00:04.871948Z"
    }
   },
   "id": "f6744a91989e458f",
   "execution_count": 7
  },
  {
   "cell_type": "code",
   "outputs": [
    {
     "name": "stdout",
     "output_type": "stream",
     "text": [
      "CustomDatasetWithProcessor CustomDatasetWithOutProcessor CustomDatasetWithPreprocessor\n"
     ]
    }
   ],
   "source": [
    "batch_size = 64\n",
    "\n",
    "print_dataset_names()\n",
    "dataset = get_dataset(train_item_no_list, train_urls, train_sentences, train_labels, 'CustomDatasetWithOutProcessor')\n",
    "train_dataloader = DataLoader(dataset, batch_size=batch_size)"
   ],
   "metadata": {
    "collapsed": false,
    "ExecuteTime": {
     "end_time": "2024-04-18T17:00:04.957029Z",
     "start_time": "2024-04-18T17:00:04.932997Z"
    }
   },
   "id": "f607e38fcd3f572d",
   "execution_count": 8
  },
  {
   "cell_type": "code",
   "outputs": [],
   "source": [
    "clip_model = get_model(device)"
   ],
   "metadata": {
    "collapsed": false,
    "ExecuteTime": {
     "end_time": "2024-04-18T17:00:06.086980Z",
     "start_time": "2024-04-18T17:00:04.958001Z"
    }
   },
   "id": "3fcc8a002e897081",
   "execution_count": 9
  },
  {
   "cell_type": "code",
   "outputs": [],
   "source": [
    "lr=1e-6\n",
    "\n",
    "optimizer = torch.optim.Adam(clip_model.parameters(), lr=lr, betas=(0.9, 0.98), eps=1e-6, weight_decay=0.2)\n",
    "\n",
    "img_criterion = torch.nn.CrossEntropyLoss()\n",
    "txt_criterion = torch.nn.CrossEntropyLoss()\n",
    "\n",
    "scheduler = torch.optim.lr_scheduler.CosineAnnealingWarmRestarts(optimizer, T_0=100, T_mult=2, eta_min=0)"
   ],
   "metadata": {
    "collapsed": false,
    "ExecuteTime": {
     "end_time": "2024-04-18T17:00:06.091518Z",
     "start_time": "2024-04-18T17:00:06.087859Z"
    }
   },
   "id": "32ccba1b0e3ae5f3",
   "execution_count": 10
  },
  {
   "cell_type": "code",
   "outputs": [
    {
     "name": "stderr",
     "output_type": "stream",
     "text": [
      "Asking to truncate to max_length but no maximum length is provided and the model has no predefined maximum length. Default to no truncation.\n"
     ]
    }
   ],
   "source": [
    "num_epochs = 1000\n",
    "\n",
    "for epoch in range(num_epochs):\n",
    "    clip_model.train()\n",
    "    running_loss = 0.0\n",
    "    running_img_loss = 0.0\n",
    "    running_txt_loss = 0.0\n",
    "    predictions = []\n",
    "    targets = []\n",
    "\n",
    "    # for batch_data in tqdm(train_dataloader):\n",
    "    for batch_data in train_dataloader:\n",
    "        optimizer.zero_grad()\n",
    "        \n",
    "        outputs = train_step(clip_model, device, batch_data, return_loss=True)\n",
    "\n",
    "        logits_per_image = outputs.logits_per_image\n",
    "        logits_per_text = outputs.logits_per_text\n",
    "\n",
    "        target = torch.arange(len(logits_per_image), device=device)\n",
    "        \n",
    "        # img_loss = torch.nn.functional.cross_entropy(logits_per_image, target)\n",
    "        img_loss = img_criterion(logits_per_image, target)\n",
    "        # txt_loss = torch.nn.functional.cross_entropy(logits_per_text, target)\n",
    "        txt_loss = txt_criterion(logits_per_text, target)\n",
    "        \n",
    "        loss = (img_loss + txt_loss) / 2\n",
    "\n",
    "        # loss = (txt_criterion(logits_per_text, batch_labels) + img_criterion(logits_per_image, batch_labels)) / 2\n",
    "\n",
    "        # loss = txt_criterion(logits_per_text, batch_labels)\n",
    "\n",
    "        # loss = img_criterion(logits_per_text, batch_labels)\n",
    "\n",
    "        loss.backward()\n",
    "        optimizer.step()\n",
    "\n",
    "        running_loss += loss.item()\n",
    "        running_img_loss += img_loss.item()\n",
    "        running_txt_loss += txt_loss.item()\n",
    "        \n",
    "    scheduler.step()\n",
    "    \n",
    "    if (epoch + 1) % 10 == 0:\n",
    "        print(f\"Epoch [{epoch + 1}/{num_epochs}], Loss: {running_loss / len(train_dataloader)}, Img Loss: {running_img_loss / len(train_dataloader)}, Txt Loss: {running_txt_loss / len(train_dataloader)}, LR: {scheduler.get_last_lr()}\")"
   ],
   "metadata": {
    "collapsed": false,
    "is_executing": true,
    "ExecuteTime": {
     "start_time": "2024-04-18T17:00:06.092413Z"
    }
   },
   "id": "1d4a133bb5e0f419",
   "execution_count": null
  },
  {
   "cell_type": "code",
   "outputs": [],
   "source": [],
   "metadata": {
    "collapsed": false,
    "is_executing": true
   },
   "id": "a057f175e0b1c5ea",
   "execution_count": null
  }
 ],
 "metadata": {
  "kernelspec": {
   "display_name": "Python 3",
   "language": "python",
   "name": "python3"
  },
  "language_info": {
   "codemirror_mode": {
    "name": "ipython",
    "version": 2
   },
   "file_extension": ".py",
   "mimetype": "text/x-python",
   "name": "python",
   "nbconvert_exporter": "python",
   "pygments_lexer": "ipython2",
   "version": "2.7.6"
  }
 },
 "nbformat": 4,
 "nbformat_minor": 5
}
